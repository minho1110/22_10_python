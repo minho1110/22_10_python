{
  "nbformat": 4,
  "nbformat_minor": 0,
  "metadata": {
    "colab": {
      "provenance": [],
      "authorship_tag": "ABX9TyNwPpvUjFcpKn3T4pXqpZ//",
      "include_colab_link": true
    },
    "kernelspec": {
      "name": "python3",
      "display_name": "Python 3"
    },
    "language_info": {
      "name": "python"
    }
  },
  "cells": [
    {
      "cell_type": "markdown",
      "metadata": {
        "id": "view-in-github",
        "colab_type": "text"
      },
      "source": [
        "<a href=\"https://colab.research.google.com/github/minho1110/22_10_python/blob/main/python_001.ipynb\" target=\"_parent\"><img src=\"https://colab.research.google.com/assets/colab-badge.svg\" alt=\"Open In Colab\"/></a>"
      ]
    },
    {
      "cell_type": "markdown",
      "source": [
        "코랩과 깃헙의 연결을 진행합니다"
      ],
      "metadata": {
        "id": "JZNKXVExljQN"
      }
    },
    {
      "cell_type": "code",
      "source": [
        "print(\"hello github\")\n",
        "print(\"hello python\")"
      ],
      "metadata": {
        "id": "UpHOQPAYnBR0",
        "outputId": "cf6151f9-851c-44c5-c6b2-cc721486d2ab",
        "colab": {
          "base_uri": "https://localhost:8080/"
        }
      },
      "execution_count": 1,
      "outputs": [
        {
          "output_type": "stream",
          "name": "stdout",
          "text": [
            "hello github\n",
            "hello python\n"
          ]
        }
      ]
    }
  ]
}