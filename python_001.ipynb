{
  "nbformat": 4,
  "nbformat_minor": 0,
  "metadata": {
    "colab": {
      "provenance": [],
      "authorship_tag": "ABX9TyNFYIlS6WWZoAyJ7ThVGait",
      "include_colab_link": true
    },
    "kernelspec": {
      "name": "python3",
      "display_name": "Python 3"
    },
    "language_info": {
      "name": "python"
    }
  },
  "cells": [
    {
      "cell_type": "markdown",
      "metadata": {
        "id": "view-in-github",
        "colab_type": "text"
      },
      "source": [
        "<a href=\"https://colab.research.google.com/github/minho1110/22_10_python/blob/main/python_001.ipynb\" target=\"_parent\"><img src=\"https://colab.research.google.com/assets/colab-badge.svg\" alt=\"Open In Colab\"/></a>"
      ]
    },
    {
      "cell_type": "markdown",
      "source": [
        "코랩과 깃헙의 연결을 진행합니다"
      ],
      "metadata": {
        "id": "JZNKXVExljQN"
      }
    },
    {
      "cell_type": "code",
      "source": [
        "print(\"heiio github\")\n",
        "print(\"heiio python\")"
      ],
      "metadata": {
        "id": "UpHOQPAYnBR0"
      },
      "execution_count": null,
      "outputs": []
    }
  ]
}